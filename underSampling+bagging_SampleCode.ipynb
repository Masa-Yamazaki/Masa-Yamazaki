{
 "cells": [
  {
   "cell_type": "code",
   "execution_count": 1,
   "id": "b1a75683",
   "metadata": {},
   "outputs": [],
   "source": [
    "import numpy as np\n",
    "import pandas as pd\n",
    "\n",
    "import matplotlib.pyplot as plt\n",
    "import japanize_matplotlib\n",
    "import seaborn as sns\n",
    "%matplotlib inline\n",
    "\n",
    "from sklearn.model_selection import train_test_split\n",
    "from sklearn.model_selection import StratifiedShuffleSplit # 正負（0,1)の比率を変えずにデータを学習、検証用に分割\n",
    "\n",
    "from sklearn.metrics import confusion_matrix # 混同行列\n",
    "from sklearn.metrics import accuracy_score, recall_score, precision_score, f1_score # 混同行列_精度指標値\n",
    "from sklearn.metrics import roc_auc_score # ROC曲線\n",
    "\n",
    "import lightgbm as lgb # LightGBM\n",
    "from tqdm import tqdm # プログレスバー\n",
    "\n",
    "# アンダーサンプリング\n",
    "from imblearn.under_sampling import RandomUnderSampler"
   ]
  },
  {
   "cell_type": "code",
   "execution_count": null,
   "id": "0470adcf",
   "metadata": {},
   "outputs": [],
   "source": []
  },
  {
   "cell_type": "code",
   "execution_count": 2,
   "id": "1e95de3c",
   "metadata": {},
   "outputs": [],
   "source": [
    "# データ取得\n",
    "creditcard = pd.read_csv(\"./creditcard.csv\")"
   ]
  },
  {
   "cell_type": "code",
   "execution_count": 3,
   "id": "d17a8763",
   "metadata": {},
   "outputs": [],
   "source": [
    "# データ全体の散布図表示\n",
    "# data = creditcard[creditcard['Amount']<5000][['Time', 'Amount', 'Class']]\n",
    "# plt.figure(figsize=[10,5])\n",
    "# plt.grid()\n",
    "# sns.scatterplot(data = data, x ='Time', y = 'Amount', hue = 'Class', alpha=0.8)"
   ]
  },
  {
   "cell_type": "code",
   "execution_count": null,
   "id": "cac571b3",
   "metadata": {},
   "outputs": [],
   "source": []
  },
  {
   "cell_type": "code",
   "execution_count": 4,
   "id": "69f554ca",
   "metadata": {},
   "outputs": [],
   "source": [
    "#  混同行列評価出力\n",
    "def plot_confusion_matrix(predict, y_test):\n",
    "    pred =  np.where(predict > 0.5, 1, 0)\n",
    "    cm = confusion_matrix(y_test, pred)\n",
    "    matrix = pd.DataFrame(cm)\n",
    "    matrix.columns = [['予測_負例(0)', '予測_正例(1)']]\n",
    "    matrix.index = [['実際_負例(0)', '実際_正例(1)']]\n",
    "    return matrix"
   ]
  },
  {
   "cell_type": "code",
   "execution_count": null,
   "id": "abef26e3",
   "metadata": {},
   "outputs": [],
   "source": []
  },
  {
   "cell_type": "code",
   "execution_count": 5,
   "id": "551901db",
   "metadata": {},
   "outputs": [],
   "source": [
    "# LightBGMアルゴリズムで学習する\n",
    "def lgbm_train(X_train, y_train):\n",
    "    model = lgb.LGBMClassifier(objective='binary',\n",
    "                               metric='auc',\n",
    "                               boosting_type='gbdt',\n",
    "                               num_leaves=30,\n",
    "                               learning_rate=0.01,\n",
    "                               feature_fraction=0.9,\n",
    "                               subsample=0.8,\n",
    "                               max_depth=12,\n",
    "                               min_data_in_leaf=12\n",
    "                              )\n",
    "    model.fit(X_train, y_train)\n",
    "    return model"
   ]
  },
  {
   "cell_type": "code",
   "execution_count": null,
   "id": "be721c29",
   "metadata": {},
   "outputs": [],
   "source": []
  },
  {
   "cell_type": "code",
   "execution_count": 6,
   "id": "1fc0d98b",
   "metadata": {},
   "outputs": [],
   "source": [
    "# アンダーバギングの実施\n",
    "def bagging(seed):\n",
    "    # アンダーサンプリング（分類問題のターゲット目的変数が少ない方に数を合わせる）\n",
    "    sampler = RandomUnderSampler(random_state=seed, replacement=True)\n",
    "    X_resampled, y_resampled = sampler.fit_resample(X_train, y_train)\n",
    "\n",
    "    #X_train2, X_valid, y_train2, y_valid = train_test_split(X_resampled, y_resampled, test_size=0.1, random_state=42)\n",
    "    #model_bagging = lgbm_train(X_train2, X_valid, y_train2, y_valid)\n",
    "    \n",
    "    #学習\n",
    "    model_bagging = lgbm_train(X_resampled, y_resampled)\n",
    "    \n",
    "    return model_bagging"
   ]
  },
  {
   "cell_type": "code",
   "execution_count": null,
   "id": "96501249",
   "metadata": {},
   "outputs": [],
   "source": []
  },
  {
   "cell_type": "code",
   "execution_count": 9,
   "id": "ab94d36c",
   "metadata": {},
   "outputs": [],
   "source": [
    "# データの目的変数の正負比率を変えずに学習、検証用に分割\n",
    "def imbalanced_data_split(X, y, t_size):\n",
    "    sss = StratifiedShuffleSplit(n_splits=1,\n",
    "                                 train_size=0.9,\n",
    "                                 test_size=t_size,\n",
    "                                 random_state=42)\n",
    "    \n",
    "    for train_index, test_index in sss.split(X, y):\n",
    "        X_train, X_test = X.iloc[train_index], X.iloc[test_index]\n",
    "        y_train, y_test = y.iloc[train_index], y.iloc[test_index]\n",
    "        \n",
    "        return X_train, X_test, y_train, y_test"
   ]
  },
  {
   "cell_type": "code",
   "execution_count": null,
   "id": "396b05c2",
   "metadata": {},
   "outputs": [],
   "source": []
  },
  {
   "cell_type": "code",
   "execution_count": 7,
   "id": "0ba35640",
   "metadata": {},
   "outputs": [],
   "source": [
    "# データ分割\n",
    "X = creditcard.drop(columns='Class', axis=1)\n",
    "y = creditcard['Class']\n",
    "\n",
    "# 正負の比率確認\n",
    "print(len(y[y==0]))\n",
    "print(len(y[y==1]))"
   ]
  },
  {
   "cell_type": "code",
   "execution_count": 10,
   "id": "c6ddcb0f",
   "metadata": {},
   "outputs": [],
   "source": [
    "# 目的変数の比率を揃えてデータ分割\n",
    "X_train, X_test, y_train, y_test = imbalanced_data_split(X, y, t_size=0.1)\n",
    "\n",
    "# 正負の比率確認\n",
    "print(len(y_train[y_train==0]))\n",
    "print(len(y_train[y_train==1]))\n",
    "\n",
    "print(len(y_test[y_test==0]))\n",
    "print(len(y_test[y_test==1]))"
   ]
  },
  {
   "cell_type": "code",
   "execution_count": null,
   "id": "0d69ee15",
   "metadata": {},
   "outputs": [],
   "source": []
  },
  {
   "cell_type": "code",
   "execution_count": 13,
   "id": "1cfa3749",
   "metadata": {},
   "outputs": [
    {
     "name": "stderr",
     "output_type": "stream",
     "text": [
      "  2%|█▋                                                                                 | 1/50 [00:00<00:06,  7.13it/s]"
     ]
    },
    {
     "name": "stdout",
     "output_type": "stream",
     "text": [
      "[LightGBM] [Warning] feature_fraction is set=0.9, colsample_bytree=1.0 will be ignored. Current value: feature_fraction=0.9\n",
      "[LightGBM] [Warning] min_data_in_leaf is set=12, min_child_samples=20 will be ignored. Current value: min_data_in_leaf=12\n"
     ]
    },
    {
     "name": "stderr",
     "output_type": "stream",
     "text": [
      "100%|██████████████████████████████████████████████████████████████████████████████████| 50/50 [00:09<00:00,  5.36it/s]\n"
     ]
    }
   ],
   "source": [
    "# 学習\n",
    "models = []\n",
    "for i in tqdm(range(50)):\n",
    "    models.append(bagging(i))"
   ]
  },
  {
   "cell_type": "code",
   "execution_count": 14,
   "id": "f84a5e10",
   "metadata": {},
   "outputs": [
    {
     "name": "stderr",
     "output_type": "stream",
     "text": [
      "100%|██████████████████████████████████████████████████████████████████████████████████| 50/50 [00:02<00:00, 21.43it/s]\n"
     ]
    }
   ],
   "source": [
    "# 予測\n",
    "y_preds = []\n",
    "for m in tqdm(models):\n",
    "    y_preds.append(m.predict(X_test))"
   ]
  },
  {
   "cell_type": "code",
   "execution_count": 16,
   "id": "ae1e61cb",
   "metadata": {},
   "outputs": [
    {
     "name": "stdout",
     "output_type": "stream",
     "text": [
      "AUC： 0.95\n"
     ]
    }
   ],
   "source": [
    "# 評価　作った学習モデル全てで判断した結果を、全学習モデル数で割って平均の答えを出す。フロート型になってしまうので後ほどintに変換\n",
    "y_preds_bagging = sum(y_preds)/len(y_preds)\n",
    "auc = roc_auc_score(y_test, y_preds_bagging)\n",
    "print(f'AUC： {round(auc, 2)}')"
   ]
  },
  {
   "cell_type": "code",
   "execution_count": 17,
   "id": "1b14ed90",
   "metadata": {},
   "outputs": [
    {
     "data": {
      "text/html": [
       "<div>\n",
       "<style scoped>\n",
       "    .dataframe tbody tr th:only-of-type {\n",
       "        vertical-align: middle;\n",
       "    }\n",
       "\n",
       "    .dataframe tbody tr th {\n",
       "        vertical-align: top;\n",
       "    }\n",
       "\n",
       "    .dataframe thead tr th {\n",
       "        text-align: left;\n",
       "    }\n",
       "</style>\n",
       "<table border=\"1\" class=\"dataframe\">\n",
       "  <thead>\n",
       "    <tr>\n",
       "      <th></th>\n",
       "      <th>予測_負例(0)</th>\n",
       "      <th>予測_正例(1)</th>\n",
       "    </tr>\n",
       "  </thead>\n",
       "  <tbody>\n",
       "    <tr>\n",
       "      <th>実際_負例(0)</th>\n",
       "      <td>27573</td>\n",
       "      <td>859</td>\n",
       "    </tr>\n",
       "    <tr>\n",
       "      <th>実際_正例(1)</th>\n",
       "      <td>4</td>\n",
       "      <td>45</td>\n",
       "    </tr>\n",
       "  </tbody>\n",
       "</table>\n",
       "</div>"
      ],
      "text/plain": [
       "         予測_負例(0) 予測_正例(1)\n",
       "実際_負例(0)    27573      859\n",
       "実際_正例(1)        4       45"
      ]
     },
     "execution_count": 17,
     "metadata": {},
     "output_type": "execute_result"
    }
   ],
   "source": [
    "# 混同行列\n",
    "matrix = plot_confusion_matrix(y_preds_bagging, y_test)\n",
    "matrix"
   ]
  },
  {
   "cell_type": "code",
   "execution_count": 18,
   "id": "bd0a7967",
   "metadata": {},
   "outputs": [
    {
     "name": "stdout",
     "output_type": "stream",
     "text": [
      "Accuracy =  0.998\n",
      "Precision =  0.457\n",
      "Recall =  0.878\n",
      "F1 score =  0.601\n"
     ]
    }
   ],
   "source": [
    "# 評価\n",
    "\n",
    "#intとfloatの比較だとエラーになるためintに揃える（切り捨てでなく四捨五入が必要かも）\n",
    "y_preds_bagging_int = [int(num) for num in y_preds_bagging.tolist()]\n",
    "\n",
    "print('Accuracy = ', accuracy_score(y_true=y_test, y_pred=y_preds_bagging_int).round(decimals=3))\n",
    "print('Precision = ', precision_score(y_true=y_test, y_pred=y_preds_bagging_int, zero_division=0).round(decimals=3))\n",
    "print('Recall = ', recall_score(y_true=y_test, y_pred=y_preds_bagging_int).round(decimals=3))\n",
    "print('F1 score = ', f1_score(y_true=y_test, y_pred=y_preds_bagging_int).round(decimals=3))"
   ]
  },
  {
   "cell_type": "code",
   "execution_count": null,
   "id": "e0c7073d",
   "metadata": {},
   "outputs": [],
   "source": []
  },
  {
   "cell_type": "code",
   "execution_count": 24,
   "id": "5bae3382",
   "metadata": {},
   "outputs": [
    {
     "name": "stderr",
     "output_type": "stream",
     "text": [
      "100%|████████████████████████████████████████████████████████████████████████████████| 50/50 [00:00<00:00, 5204.11it/s]\n"
     ]
    }
   ],
   "source": [
    "# 特徴量の重要度\n",
    "importance = []\n",
    "for m in tqdm(models):\n",
    "    importance.append(pd.DataFrame(m.feature_importances_, index=X.columns, columns=['importance']))\n",
    "    "
   ]
  },
  {
   "cell_type": "code",
   "execution_count": 37,
   "id": "989feac5",
   "metadata": {},
   "outputs": [],
   "source": [
    "# 各学習モデルの特徴量の重要度から平均値を算出する\n",
    "importance_sum = sum(importance)/len(importance)"
   ]
  },
  {
   "cell_type": "code",
   "execution_count": 38,
   "id": "78d8f85f",
   "metadata": {},
   "outputs": [
    {
     "data": {
      "text/html": [
       "<div>\n",
       "<style scoped>\n",
       "    .dataframe tbody tr th:only-of-type {\n",
       "        vertical-align: middle;\n",
       "    }\n",
       "\n",
       "    .dataframe tbody tr th {\n",
       "        vertical-align: top;\n",
       "    }\n",
       "\n",
       "    .dataframe thead th {\n",
       "        text-align: right;\n",
       "    }\n",
       "</style>\n",
       "<table border=\"1\" class=\"dataframe\">\n",
       "  <thead>\n",
       "    <tr style=\"text-align: right;\">\n",
       "      <th></th>\n",
       "      <th>importance</th>\n",
       "    </tr>\n",
       "  </thead>\n",
       "  <tbody>\n",
       "    <tr>\n",
       "      <th>V14</th>\n",
       "      <td>313.22</td>\n",
       "    </tr>\n",
       "    <tr>\n",
       "      <th>V4</th>\n",
       "      <td>292.86</td>\n",
       "    </tr>\n",
       "    <tr>\n",
       "      <th>V12</th>\n",
       "      <td>167.48</td>\n",
       "    </tr>\n",
       "    <tr>\n",
       "      <th>Amount</th>\n",
       "      <td>152.48</td>\n",
       "    </tr>\n",
       "    <tr>\n",
       "      <th>V10</th>\n",
       "      <td>145.82</td>\n",
       "    </tr>\n",
       "    <tr>\n",
       "      <th>V20</th>\n",
       "      <td>143.48</td>\n",
       "    </tr>\n",
       "    <tr>\n",
       "      <th>V19</th>\n",
       "      <td>132.46</td>\n",
       "    </tr>\n",
       "    <tr>\n",
       "      <th>V17</th>\n",
       "      <td>117.92</td>\n",
       "    </tr>\n",
       "    <tr>\n",
       "      <th>V7</th>\n",
       "      <td>116.74</td>\n",
       "    </tr>\n",
       "    <tr>\n",
       "      <th>V8</th>\n",
       "      <td>115.06</td>\n",
       "    </tr>\n",
       "    <tr>\n",
       "      <th>V13</th>\n",
       "      <td>112.04</td>\n",
       "    </tr>\n",
       "    <tr>\n",
       "      <th>V11</th>\n",
       "      <td>88.66</td>\n",
       "    </tr>\n",
       "    <tr>\n",
       "      <th>V26</th>\n",
       "      <td>79.20</td>\n",
       "    </tr>\n",
       "    <tr>\n",
       "      <th>V25</th>\n",
       "      <td>76.14</td>\n",
       "    </tr>\n",
       "    <tr>\n",
       "      <th>V21</th>\n",
       "      <td>73.60</td>\n",
       "    </tr>\n",
       "    <tr>\n",
       "      <th>V16</th>\n",
       "      <td>72.70</td>\n",
       "    </tr>\n",
       "    <tr>\n",
       "      <th>V3</th>\n",
       "      <td>62.44</td>\n",
       "    </tr>\n",
       "    <tr>\n",
       "      <th>V23</th>\n",
       "      <td>58.28</td>\n",
       "    </tr>\n",
       "    <tr>\n",
       "      <th>V9</th>\n",
       "      <td>56.88</td>\n",
       "    </tr>\n",
       "    <tr>\n",
       "      <th>V6</th>\n",
       "      <td>56.56</td>\n",
       "    </tr>\n",
       "    <tr>\n",
       "      <th>Time</th>\n",
       "      <td>54.44</td>\n",
       "    </tr>\n",
       "    <tr>\n",
       "      <th>V1</th>\n",
       "      <td>53.78</td>\n",
       "    </tr>\n",
       "    <tr>\n",
       "      <th>V15</th>\n",
       "      <td>49.46</td>\n",
       "    </tr>\n",
       "    <tr>\n",
       "      <th>V18</th>\n",
       "      <td>48.80</td>\n",
       "    </tr>\n",
       "    <tr>\n",
       "      <th>V22</th>\n",
       "      <td>43.44</td>\n",
       "    </tr>\n",
       "    <tr>\n",
       "      <th>V2</th>\n",
       "      <td>39.62</td>\n",
       "    </tr>\n",
       "    <tr>\n",
       "      <th>V28</th>\n",
       "      <td>37.62</td>\n",
       "    </tr>\n",
       "    <tr>\n",
       "      <th>V5</th>\n",
       "      <td>36.94</td>\n",
       "    </tr>\n",
       "    <tr>\n",
       "      <th>V24</th>\n",
       "      <td>32.06</td>\n",
       "    </tr>\n",
       "    <tr>\n",
       "      <th>V27</th>\n",
       "      <td>30.32</td>\n",
       "    </tr>\n",
       "  </tbody>\n",
       "</table>\n",
       "</div>"
      ],
      "text/plain": [
       "        importance\n",
       "V14         313.22\n",
       "V4          292.86\n",
       "V12         167.48\n",
       "Amount      152.48\n",
       "V10         145.82\n",
       "V20         143.48\n",
       "V19         132.46\n",
       "V17         117.92\n",
       "V7          116.74\n",
       "V8          115.06\n",
       "V13         112.04\n",
       "V11          88.66\n",
       "V26          79.20\n",
       "V25          76.14\n",
       "V21          73.60\n",
       "V16          72.70\n",
       "V3           62.44\n",
       "V23          58.28\n",
       "V9           56.88\n",
       "V6           56.56\n",
       "Time         54.44\n",
       "V1           53.78\n",
       "V15          49.46\n",
       "V18          48.80\n",
       "V22          43.44\n",
       "V2           39.62\n",
       "V28          37.62\n",
       "V5           36.94\n",
       "V24          32.06\n",
       "V27          30.32"
      ]
     },
     "metadata": {},
     "output_type": "display_data"
    }
   ],
   "source": [
    "importance_sum.sort_values('importance', ascending=False, inplace=True)\n",
    "display(importance_sum)"
   ]
  },
  {
   "cell_type": "code",
   "execution_count": null,
   "id": "c85d4fa3",
   "metadata": {},
   "outputs": [],
   "source": []
  }
 ],
 "metadata": {
  "kernelspec": {
   "display_name": "Python 3 (ipykernel)",
   "language": "python",
   "name": "python3"
  },
  "language_info": {
   "codemirror_mode": {
    "name": "ipython",
    "version": 3
   },
   "file_extension": ".py",
   "mimetype": "text/x-python",
   "name": "python",
   "nbconvert_exporter": "python",
   "pygments_lexer": "ipython3",
   "version": "3.7.9"
  }
 },
 "nbformat": 4,
 "nbformat_minor": 5
}
